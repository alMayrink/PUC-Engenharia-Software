{
  "cells": [
    {
      "cell_type": "markdown",
      "metadata": {
        "id": "view-in-github",
        "colab_type": "text"
      },
      "source": [
        "<a href=\"https://colab.research.google.com/github/alMayrink/PUC-Engenharia-Software/blob/main/%C3%A1lvaro_mayrink_trabalho_final_engenharia_de_software_para_ci%C3%AAncia_de_dados.ipynb\" target=\"_parent\"><img src=\"https://colab.research.google.com/assets/colab-badge.svg\" alt=\"Open In Colab\"/></a>"
      ]
    },
    {
      "cell_type": "markdown",
      "metadata": {
        "id": "MDnXLbAXQbBn"
      },
      "source": [
        "# Trabalho Final - Engenharia de Software para Ciência de Dados - PUC-Rio\n",
        "\n",
        "### Comparação de Modelos de Machine Learning de Classificação (ou Regressão) Utilizando Boas Práticas de Engenharia de Software\n",
        "\n",
        "Álvaro Mayrink"
      ]
    },
    {
      "cell_type": "markdown",
      "source": [
        "# **1 - Definição do Problema**"
      ],
      "metadata": {
        "id": "UlfXBgwcXFGM"
      }
    },
    {
      "cell_type": "markdown",
      "source": [
        "\n",
        "O problema é prever o método contraceptivo escolhido por uma mulher (nenhum método, método de longo prazo ou método de curto prazo), baseado na suas características demográficas e sócio-econômicas.\n",
        "\n",
        "O Data Set a ser usado para esse trabalho será o \n",
        "Contraceptive Method Choice Data Set, disponível em \n",
        "https://archive.ics.uci.edu/ml/datasets/Contraceptive+Method+Choice. \n",
        "\n",
        "Este data set é um subset da pesquisa Nacional da Indonésia, de 1987, para mapeamento da prevalência de método contraceptivo adotado. As amostras são de mulheres casadas as quais estavam ou não grávidas, ou não sabiam se estavam, no momento em que foram entrevistadas. \n",
        "\n",
        "Informações dos Atributos:\n",
        "\n",
        "1. Idade (numerico)\n",
        "2. Nível de educação (categorica) 1=baixa, 2, 3, 4=alta\n",
        "3. Níve de educação do marido (categorica) 1=baixa, 2, 3, 4=alta\n",
        "4. Quantidade de filhos nascidos (numerico)\n",
        "5. Religião da mulher (binário) 0=Não muçulmana, 1=Muçulmana\n",
        "6. Está trabalhando ? (binário) 0=Sim, 1=Não\n",
        "7. Ocupação do marido (categorica) 1=baixa, 2, 3, 4=alta\n",
        "8. Nível do padrão de vida (categorica) 1=baixo, 2, 3, 4=alto\n",
        "9. Acesso à informação (binary) 0=Bom, 1=Não bom\n",
        "10. Metódo contraceptivo usado (atributo classe) 1=Não usa, 2=Longa duração, 3=Curta duração\n",
        "\n",
        "Obs: Não existem missing values na base de dados\n",
        "\n"
      ],
      "metadata": {
        "id": "2X_D6UTNXrso"
      }
    },
    {
      "cell_type": "markdown",
      "source": [
        "# **2 - Importar Bibliotecas e Classes Necessárias**"
      ],
      "metadata": {
        "id": "W0cUDowSEU1B"
      }
    },
    {
      "cell_type": "code",
      "execution_count": null,
      "metadata": {
        "id": "LeUm9vsF0nmY"
      },
      "outputs": [],
      "source": [
        "# Imports necessários\n",
        "\n",
        "import pandas as pd\n",
        "import numpy as np\n",
        "import matplotlib\n",
        "import matplotlib.pyplot as plt\n",
        "import seaborn as sns\n",
        "import missingno as ms # para tratamento de missings\n",
        "from matplotlib import cm\n",
        "from pandas import set_option\n",
        "from pandas.plotting import scatter_matrix\n",
        "from sklearn.preprocessing import StandardScaler # para padronização\n",
        "from sklearn.preprocessing import MinMaxScaler # para normalização\n",
        "from sklearn.model_selection import train_test_split\n",
        "from sklearn.model_selection import KFold\n",
        "from sklearn.model_selection import cross_val_score\n",
        "from sklearn.model_selection import GridSearchCV\n",
        "from sklearn.metrics import classification_report\n",
        "from sklearn.metrics import confusion_matrix\n",
        "from sklearn.metrics import accuracy_score\n",
        "from sklearn.pipeline import Pipeline\n",
        "from sklearn.linear_model import LogisticRegression\n",
        "from sklearn.tree import DecisionTreeClassifier\n",
        "from sklearn.neighbors import KNeighborsClassifier\n",
        "from sklearn.naive_bayes import GaussianNB\n",
        "from sklearn.svm import SVC\n",
        "from sklearn.ensemble import AdaBoostClassifier\n",
        "from sklearn.ensemble import GradientBoostingClassifier\n",
        "from sklearn.ensemble import RandomForestClassifier\n",
        "from sklearn.ensemble import ExtraTreesClassifier\n",
        "from abc import abstractmethod\n",
        "from abc import ABC"
      ]
    },
    {
      "cell_type": "code",
      "execution_count": null,
      "metadata": {
        "colab": {
          "base_uri": "https://localhost:8080/"
        },
        "id": "gudU2uP4PPL9",
        "outputId": "a4223d2f-9916-4102-9041-8b77776975d3"
      },
      "outputs": [
        {
          "output_type": "stream",
          "name": "stdout",
          "text": [
            "Looking in indexes: https://pypi.org/simple, https://us-python.pkg.dev/colab-wheels/public/simple/\n",
            "Collecting pycodestyle\n",
            "  Downloading pycodestyle-2.9.1-py2.py3-none-any.whl (41 kB)\n",
            "\u001b[K     |████████████████████████████████| 41 kB 388 kB/s \n",
            "\u001b[?25hCollecting pycodestyle_magic\n",
            "  Downloading pycodestyle_magic-0.5-py2.py3-none-any.whl (9.5 kB)\n",
            "Installing collected packages: pycodestyle-magic, pycodestyle\n",
            "Successfully installed pycodestyle-2.9.1 pycodestyle-magic-0.5\n",
            "Looking in indexes: https://pypi.org/simple, https://us-python.pkg.dev/colab-wheels/public/simple/\n",
            "Collecting flake8\n",
            "  Downloading flake8-5.0.4-py2.py3-none-any.whl (61 kB)\n",
            "\u001b[K     |████████████████████████████████| 61 kB 454 kB/s \n",
            "\u001b[?25hCollecting pyflakes<2.6.0,>=2.5.0\n",
            "  Downloading pyflakes-2.5.0-py2.py3-none-any.whl (66 kB)\n",
            "\u001b[K     |████████████████████████████████| 66 kB 4.1 MB/s \n",
            "\u001b[?25hCollecting mccabe<0.8.0,>=0.7.0\n",
            "  Downloading mccabe-0.7.0-py2.py3-none-any.whl (7.3 kB)\n",
            "Requirement already satisfied: pycodestyle<2.10.0,>=2.9.0 in /usr/local/lib/python3.7/dist-packages (from flake8) (2.9.1)\n",
            "Collecting importlib-metadata<4.3,>=1.1.0\n",
            "  Downloading importlib_metadata-4.2.0-py3-none-any.whl (16 kB)\n",
            "Requirement already satisfied: typing-extensions>=3.6.4 in /usr/local/lib/python3.7/dist-packages (from importlib-metadata<4.3,>=1.1.0->flake8) (4.1.1)\n",
            "Requirement already satisfied: zipp>=0.5 in /usr/local/lib/python3.7/dist-packages (from importlib-metadata<4.3,>=1.1.0->flake8) (3.10.0)\n",
            "Installing collected packages: pyflakes, mccabe, importlib-metadata, flake8\n",
            "  Attempting uninstall: importlib-metadata\n",
            "    Found existing installation: importlib-metadata 4.13.0\n",
            "    Uninstalling importlib-metadata-4.13.0:\n",
            "      Successfully uninstalled importlib-metadata-4.13.0\n",
            "\u001b[31mERROR: pip's dependency resolver does not currently take into account all the packages that are installed. This behaviour is the source of the following dependency conflicts.\n",
            "markdown 3.4.1 requires importlib-metadata>=4.4; python_version < \"3.10\", but you have importlib-metadata 4.2.0 which is incompatible.\n",
            "gym 0.25.2 requires importlib-metadata>=4.8.0; python_version < \"3.10\", but you have importlib-metadata 4.2.0 which is incompatible.\u001b[0m\n",
            "Successfully installed flake8-5.0.4 importlib-metadata-4.2.0 mccabe-0.7.0 pyflakes-2.5.0\n"
          ]
        }
      ],
      "source": [
        "!pip install pycodestyle pycodestyle_magic #não tem nada haver com SOLID.É para analisar o código\n",
        "!pip install flake8\n",
        "%load_ext pycodestyle_magic"
      ]
    },
    {
      "cell_type": "markdown",
      "source": [
        "# **3 - Definir Classes**"
      ],
      "metadata": {
        "id": "GQ2ix5-W_p0d"
      }
    },
    {
      "cell_type": "code",
      "execution_count": null,
      "metadata": {
        "id": "YHn8HbDg0i5P"
      },
      "outputs": [],
      "source": [
        "# %%pycodestyle #caso queira analisar a qualidade do código\n",
        "\n",
        "\n",
        "class Carregador:\n",
        "\n",
        "    def carregar_dados(self, url: str, atributos: list):\n",
        "        \"\"\" Carrega e retorna um DataFrame. Há diversos parâmetros \n",
        "        no read_csv que poderiam ser utilizados para dar opções \n",
        "        adicionais.\n",
        "        \"\"\"\n",
        "        return pd.read_csv(url, names=atributos)\n",
        "\n",
        "\n",
        "class PreProcessador:\n",
        "\n",
        "    def pre_processar(self, dataset, percentual_teste, seed=7):\n",
        "        \"\"\" Cuida de todo o pré-processamento. \"\"\"\n",
        "        # limpeza dos dados e eliminação de outliers\n",
        "\n",
        "        # feature selection\n",
        "\n",
        "        # divisão em treino e teste\n",
        "        X_train, X_test, Y_train, Y_test = self.__preparar_holdout(dataset,\n",
        "                                           percentual_teste, seed)\n",
        "        # normalização/padronização\n",
        "        \n",
        "        return (X_train, X_test, Y_train, Y_test)\n",
        "\n",
        "    def __preparar_holdout(self, dataset, percentual_teste, seed):\n",
        "        \"\"\" Divide os dados em treino e teste usando o método holdout.\n",
        "        Assume que a variável target está na última coluna.\n",
        "        O parâmetro test_size é o percentual de dados de teste.\n",
        "        \"\"\"\n",
        "        dados = dataset.values\n",
        "        X = dados[:, 0:9]\n",
        "        Y = dados[:, 9]\n",
        "        return train_test_split(X, Y, test_size=percentual_teste, \n",
        "                                random_state=seed)\n",
        "\n",
        "\n",
        "class Modelo:\n",
        "\n",
        "    def treinar_SVM(self, X_train, Y_train):\n",
        "        \"\"\" Cria e treina um modelo SVM. Poderia ter um Grid Search\n",
        "        com cross_validation para escolher os melhores hiperparâmetros, etc.\n",
        "        \"\"\"\n",
        "        modelo = SVC()\n",
        "        modelo.fit(X_train, Y_train)\n",
        "        return modelo\n",
        "\n",
        "\n",
        "class Avaliador:\n",
        "\n",
        "    def avaliar_acuracia(self, modelo, X_test, Y_test):\n",
        "        \"\"\" Faz uma predição e avalia o modelo. Poderia parametrizar o tipo de\n",
        "        avaliação, entre outros.\n",
        "        \"\"\"\n",
        "        predicoes = modelo.predict(X_test)\n",
        "        return accuracy_score(Y_test, predicoes)\n",
        "\n",
        "\n",
        "\n"
      ]
    },
    {
      "cell_type": "markdown",
      "source": [
        "# **4 - Instanciar as Classes**"
      ],
      "metadata": {
        "id": "QZJPTX2RAHLw"
      }
    },
    {
      "cell_type": "code",
      "source": [
        "carregador = Carregador()\n",
        "pre_processador = PreProcessador()\n",
        "modelo = Modelo()\n",
        "avaliador = Avaliador()"
      ],
      "metadata": {
        "id": "ylm9Nf7h_gW3"
      },
      "execution_count": null,
      "outputs": []
    },
    {
      "cell_type": "markdown",
      "source": [
        "# **5 - Carga dos Dados**"
      ],
      "metadata": {
        "id": "ykMv0TPnBKKe"
      }
    },
    {
      "cell_type": "code",
      "source": [
        "import warnings\n",
        "warnings.filterwarnings(\"ignore\")\n",
        "url_dados = ('https://archive.ics.uci.edu/ml/machine-learning-databases/cmc/cmc.data')\n",
        "atributos = ['Idade', 'Nivel_Educação', 'Nível Educação_Marido', 'Filhos',\n",
        "             'Indica_Muçulmana?', 'Trabalhando?', 'Ocupação_Marido',\n",
        "             'Padrão_de_Vida', 'Acesso_à_Informação', 'Método_Contraceptivo']\n",
        "percentual_teste = 0.2\n",
        "dataset = carregador.carregar_dados(url_dados, atributos)"
      ],
      "metadata": {
        "id": "qsKmPau1-35h"
      },
      "execution_count": 19,
      "outputs": []
    },
    {
      "cell_type": "markdown",
      "source": [
        "## **5.1 Análise dos dados**"
      ],
      "metadata": {
        "id": "0GO4SO-l7wC1"
      }
    },
    {
      "cell_type": "markdown",
      "source": [
        "### **5.1.1 Estatísticas Descritivas**\n",
        "\n"
      ],
      "metadata": {
        "id": "ryRX0vWc7B8m"
      }
    },
    {
      "cell_type": "code",
      "source": [
        "# mostrar dimensões do dataset\n",
        "print(dataset.shape)"
      ],
      "metadata": {
        "id": "C1VFprmD0v6I"
      },
      "execution_count": null,
      "outputs": []
    },
    {
      "cell_type": "code",
      "source": [
        "# mostrar as 20 primeiras tuplas\n",
        "dataset.head(20)"
      ],
      "metadata": {
        "id": "JsULwu1J1tEH"
      },
      "execution_count": null,
      "outputs": []
    },
    {
      "cell_type": "code",
      "source": [
        "# mostrar as 20 últimas tuplas\n",
        "dataset.tail(20)"
      ],
      "metadata": {
        "id": "W5oilGbp4eux"
      },
      "execution_count": null,
      "outputs": []
    },
    {
      "cell_type": "code",
      "source": [
        "# mostrar as informações do dataset\n",
        "print(dataset.info())"
      ],
      "metadata": {
        "id": "7UX_PvNy15Rv"
      },
      "execution_count": null,
      "outputs": []
    },
    {
      "cell_type": "code",
      "source": [
        "# mostrar resumo estatístico\n",
        "dataset.describe()"
      ],
      "metadata": {
        "id": "kc8mC6tV2p6q"
      },
      "execution_count": null,
      "outputs": []
    },
    {
      "cell_type": "code",
      "source": [
        "# mostrar distribuição das classes\n",
        "print(dataset.groupby('Método_Contraceptivo').size())"
      ],
      "metadata": {
        "colab": {
          "base_uri": "https://localhost:8080/"
        },
        "id": "kkpUEdI723Xt",
        "outputId": "c07f948b-cf83-45fb-e8cd-8cddd3248ed5"
      },
      "execution_count": 24,
      "outputs": [
        {
          "output_type": "stream",
          "name": "stdout",
          "text": [
            "Método_Contraceptivo\n",
            "1    629\n",
            "2    333\n",
            "3    511\n",
            "dtype: int64\n"
          ]
        }
      ]
    },
    {
      "cell_type": "markdown",
      "source": [
        "### **5.1.2 - Visualizações Unimodais e Multimodais**"
      ],
      "metadata": {
        "id": "tDbgyOl47fId"
      }
    },
    {
      "cell_type": "code",
      "source": [
        "# Histograma\n",
        "dataset.hist(figsize = (10,15))\n",
        "plt.show()"
      ],
      "metadata": {
        "id": "-Z5K5cuX-oOR"
      },
      "execution_count": null,
      "outputs": []
    },
    {
      "cell_type": "code",
      "source": [
        "# Boxplot\n",
        "dataset.plot(kind = 'box', subplots = True, layout = (3,4), sharex = False, sharey = False, figsize = (15,10))\n",
        "plt.show()"
      ],
      "metadata": {
        "id": "Q6uFekpj_3gM"
      },
      "execution_count": null,
      "outputs": []
    },
    {
      "cell_type": "markdown",
      "source": [],
      "metadata": {
        "id": "zZudCshoY-r6"
      }
    },
    {
      "cell_type": "code",
      "source": [
        "# Matriz de Correlação com Matplotlib Seaborn\n",
        "sns.heatmap(dataset.corr(), annot=True, cmap='RdBu');"
      ],
      "metadata": {
        "id": "5yLQQCTQA9Kr"
      },
      "execution_count": null,
      "outputs": []
    },
    {
      "cell_type": "markdown",
      "source": [
        "# **6 - Pré-Processamento de Dados**"
      ],
      "metadata": {
        "id": "5oTUppasCMP9"
      }
    },
    {
      "cell_type": "code",
      "source": [],
      "metadata": {
        "id": "KC94ai09YJwt"
      },
      "execution_count": null,
      "outputs": []
    },
    {
      "cell_type": "code",
      "source": [
        "# Separar em conjuntos de treino e teste\n",
        "array = dataset.values\n",
        "X = array[:,0:9].astype(float)\n",
        "Y = array[:,9]\n",
        "test_size = 0.30\n",
        "seed = 7\n",
        "X_train, X_test, Y_train, Y_test = train_test_split(X, Y,\n",
        "    test_size=test_size, random_state=seed)"
      ],
      "metadata": {
        "id": "r3gRkWgG_Gd2"
      },
      "execution_count": null,
      "outputs": []
    },
    {
      "cell_type": "code",
      "source": [
        "# Treinamento do modelo\n",
        "#model = modelo.treinar_SVM(X_train, Y_train)\n",
        "# Impressão do resultado da avaliação\n",
        "#print(avaliador.avaliar_acuracia(model, X_test, Y_test))"
      ],
      "metadata": {
        "id": "E0XypejU_RHN"
      },
      "execution_count": null,
      "outputs": []
    },
    {
      "cell_type": "markdown",
      "metadata": {
        "id": "ugzwgOZLlURp"
      },
      "source": [
        "## PyTest"
      ]
    },
    {
      "cell_type": "code",
      "execution_count": null,
      "metadata": {
        "id": "w6VHpme5dAlk"
      },
      "outputs": [],
      "source": [
        "!pip -q install pytest pytest-sugar"
      ]
    },
    {
      "cell_type": "code",
      "execution_count": null,
      "metadata": {
        "id": "T2dhM06seDSA",
        "colab": {
          "base_uri": "https://localhost:8080/"
        },
        "outputId": "4f6762dd-4528-448c-cb56-4f1d1ef459e0"
      },
      "outputs": [
        {
          "output_type": "stream",
          "name": "stdout",
          "text": [
            "rm: cannot remove '*.py': No such file or directory\n"
          ]
        }
      ],
      "source": [
        "# cleanup all files\n",
        "%rm *.py"
      ]
    },
    {
      "cell_type": "code",
      "execution_count": null,
      "metadata": {
        "id": "EmGr1Ln1ivgH",
        "colab": {
          "base_uri": "https://localhost:8080/"
        },
        "outputId": "4c20de12-3ace-4ee8-d6e7-671211325b96"
      },
      "outputs": [
        {
          "output_type": "stream",
          "name": "stdout",
          "text": [
            "Writing loader.py\n"
          ]
        }
      ],
      "source": [
        "%%file loader.py #cria um arquivo com o codigo da classe Loader e grava no notebook\n",
        "\n",
        "# Imports necessários\n",
        "import pandas as pd\n",
        "from sklearn.datasets import load_iris # para importar o dataset iris\n",
        "\n",
        "class Loader:\n",
        "\n",
        "    def load_data(self, dataset_url: str, attributes: list):\n",
        "        \"\"\" Carrega e retorna um dataset.\n",
        "        Há diversos parâmetros no read_csv para dar opções adicionais.\n",
        "        \"\"\"\n",
        "        return pd.read_csv(dataset_url, names=attributes)\n"
      ]
    },
    {
      "cell_type": "code",
      "execution_count": null,
      "metadata": {
        "colab": {
          "base_uri": "https://localhost:8080/"
        },
        "id": "pXZEbC5zdQ5U",
        "outputId": "c9a31430-a804-4899-ffeb-de8e6bdf1334"
      },
      "outputs": [
        {
          "output_type": "stream",
          "name": "stdout",
          "text": [
            "Writing test_load.py\n"
          ]
        }
      ],
      "source": [
        "%%file test_load.py\n",
        "\n",
        "from loader import Loader\n",
        "\n",
        "def test_load_data():\n",
        "    url_dados = ('https://archive.ics.uci.edu/'\n",
        "                 'ml/machine-learning-databases/iris/iris.data')\n",
        "    atributos = ['comprimento_sepala', 'largura_sepala',\n",
        "                 'comprimento_petala', 'largura_petala',\n",
        "                 'especie']\n",
        "\n",
        "    loader = Loader()\n",
        "    dataset = loader.load_data(url_dados, atributos)\n",
        "    \n",
        "    assert len(dataset) == 150\n"
      ]
    },
    {
      "cell_type": "code",
      "execution_count": null,
      "metadata": {
        "colab": {
          "base_uri": "https://localhost:8080/"
        },
        "id": "88Slw9_3dje5",
        "outputId": "1775f4bd-9004-4d0c-8d85-93db132a1c44"
      },
      "outputs": [
        {
          "output_type": "stream",
          "name": "stdout",
          "text": [
            "\u001b[1mTest session starts (platform: linux, Python 3.7.15, pytest 3.6.4, pytest-sugar 0.9.6)\u001b[0m\n",
            "rootdir: /content, inifile:\n",
            "plugins: typeguard-2.7.1, sugar-0.9.6\n",
            "\n",
            " \u001b[36m\u001b[0mtest_load.py\u001b[0m \u001b[32m✓\u001b[0m                                                  \u001b[32m100% \u001b[0m\u001b[40m\u001b[32m█\u001b[0m\u001b[40m\u001b[32m█████████\u001b[0m\n",
            "\n",
            "Results (0.98s):\n",
            "\u001b[32m       1 passed\u001b[0m\n"
          ]
        }
      ],
      "source": [
        "!python -m pytest test_load.py"
      ]
    }
  ],
  "metadata": {
    "colab": {
      "provenance": [],
      "include_colab_link": true
    },
    "kernelspec": {
      "display_name": "Python 3",
      "name": "python3"
    }
  },
  "nbformat": 4,
  "nbformat_minor": 0
}